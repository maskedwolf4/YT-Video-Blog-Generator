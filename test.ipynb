{
 "cells": [
  {
   "cell_type": "code",
   "execution_count": null,
   "id": "09a39e80",
   "metadata": {},
   "outputs": [
    {
     "data": {
      "text/plain": [
       "True"
      ]
     },
     "execution_count": 19,
     "metadata": {},
     "output_type": "execute_result"
    }
   ],
   "source": [
    "# --- Imports and Setup ---\n",
    "from typing import Annotated, Sequence, TypedDict\n",
    "from langchain_core.messages import BaseMessage, SystemMessage\n",
    "from langgraph.as_tool import Tool\n",
    "from langgraph.graph.message import add_messages\n",
    "from langgraph.graph import StateGraph, START, END\n",
    "from langchain_groq.chat_models import ChatGroq\n",
    "from langchain_core.tools import tool\n",
    "from youtube_transcript_api import YouTubeTranscriptApi\n",
    "import re\n",
    "import os\n",
    "from dotenv import load_dotenv\n",
    "\n",
    "load_dotenv()"
   ]
  },
  {
   "cell_type": "code",
   "execution_count": 20,
   "id": "8be1335b",
   "metadata": {},
   "outputs": [],
   "source": [
    "# --- Tool: YouTube Transcript Fetcher ---\n",
    "@tool\n",
    "def get_transcript(url: str) -> str:\n",
    "    \"\"\"Fetch the transcript from a YouTube video URL.\"\"\"\n",
    "    # Extract video ID\n",
    "    regex = r\"(?:youtube\\.com\\/(?:[^\\/]+\\/.+\\/|(?:v|e(?:mbed)?)\\/|.*[?&]v=)|youtu\\.be\\/|youtube\\.com\\/shorts\\/)([^\\\"&?\\/\\s]{11})\"\n",
    "    match = re.search(regex, url)\n",
    "    if not match:\n",
    "        return \"Invalid YouTube URL.\"\n",
    "    video_id = match.group(1)\n",
    "    # Fetch transcript\n",
    "    try:\n",
    "        transcript_raw = YouTubeTranscriptApi.get_transcript(video_id, languages=['en'])\n",
    "        transcript = \" \".join([seg['text'] for seg in transcript_raw])\n",
    "        return transcript\n",
    "    except Exception as e:\n",
    "        return f\"Unfortunately, the transcript could not be fetched due to the YouTube API limitations. ({e})\"\n",
    "\n",
    "tools = [get_transcript]"
   ]
  },
  {
   "cell_type": "code",
   "execution_count": 21,
   "id": "6c7f2d84",
   "metadata": {},
   "outputs": [],
   "source": [
    "# --- State Definition ---\n",
    "class AgentState(TypedDict):\n",
    "    messages: Annotated[Sequence[BaseMessage], add_messages]\n",
    "\n",
    "# --- LLM Setup with Blog Prompt ---\n",
    "system_prompt = (\n",
    "    \"You are a professional blog writer. \"\n",
    "    \"Given a transcript of a YouTube video, write a detailed, engaging blog post summarizing and expanding on the content. \"\n",
    "    \"If you do not have the transcript, first use the `get_transcript` tool to fetch it.\"\n",
    ")\n",
    "llm = ChatGroq(model=\"llama-3.1-8b-instant\")\n",
    "llm_with_tools = llm.bind_tools(tools)"
   ]
  },
  {
   "cell_type": "code",
   "execution_count": 26,
   "id": "38a0a56f",
   "metadata": {},
   "outputs": [],
   "source": [
    "\n",
    "# --- Nodes ---\n",
    "def call_model(state: AgentState, config=None):\n",
    "    # Always prepend the system prompt\n",
    "    messages = [SystemMessage(content=system_prompt)] + state[\"messages\"]\n",
    "    response = llm_with_tools.invoke(messages, config)\n",
    "    return {\"messages\": [response]}\n",
    "\n",
    "def tool_node(state: AgentState):\n",
    "    # Find the last tool call in the messages\n",
    "    from langchain_core.messages import ToolMessage\n",
    "    outputs = []\n",
    "    last_message = state[\"messages\"][-1]\n",
    "    for tool_call in getattr(last_message, \"tool_calls\", []):\n",
    "        tool_name = tool_call[\"name\"]\n",
    "        tool_args = tool_call[\"args\"]\n",
    "        tool_result = [t for t in tools if t.name == tool_name][0].invoke(tool_args)\n",
    "        outputs.append(ToolMessage(content=str(tool_result), name=tool_name, tool_call_id=tool_call[\"id\"]))\n",
    "    return {\"messages\": outputs}\n"
   ]
  },
  {
   "cell_type": "code",
   "execution_count": 27,
   "id": "6ddd1670",
   "metadata": {},
   "outputs": [],
   "source": [
    "# --- Graph Construction ---\n",
    "graph_builder = StateGraph(AgentState)\n",
    "graph_builder.add_node(\"tools\", tool_node)\n",
    "graph_builder.add_node(\"agent\", call_model)\n",
    "\n",
    "# Define the edges for the desired flow\n",
    "graph_builder.add_edge(START, \"tools\")      # Start to tools\n",
    "graph_builder.add_edge(\"tools\", \"agent\")    # tools to agent\n",
    "graph_builder.add_edge(\"agent\", END)        # agent to END\n",
    "\n",
    "graph = graph_builder.compile()\n"
   ]
  },
  {
   "cell_type": "code",
   "execution_count": 28,
   "id": "41b8a8ae",
   "metadata": {},
   "outputs": [
    {
     "data": {
      "image/png": "[encoded data removed]",
      "text/plain": [
       "<IPython.core.display.Image object>"
      ]
     },
     "metadata": {},
     "output_type": "display_data"
    }
   ],
   "source": [
    "# ---Graph Image ---\n",
    "from IPython.display import Image, display\n",
    "display(Image(graph.get_graph().draw_mermaid_png()))"
   ]
  },
  {
   "cell_type": "code",
   "execution_count": 29,
   "id": "fdfee30c",
   "metadata": {},
   "outputs": [
    {
     "name": "stdout",
     "output_type": "stream",
     "text": [
      "\n"
     ]
    }
   ],
   "source": [
    "from langchain_core.messages import HumanMessage\n",
    "\n",
    "def generate_blog_from_youtube(url: str):\n",
    "    # Start with a HumanMessage containing the URL\n",
    "    state = {\"messages\": [HumanMessage(content=url)]}\n",
    "    result = graph.invoke(state)\n",
    "    # The final message is the blog post\n",
    "    blog_post = result[\"messages\"][-1].content\n",
    "    return blog_post\n",
    "\n",
    "# Example usage:\n",
    "if __name__ == \"__main__\":\n",
    "    youtube_url = \"https://youtu.be/-UQ6OZywZ2I?feature=shared\"\n",
    "    blog = generate_blog_from_youtube(youtube_url)\n",
    "    print(blog)"
   ]
  }
 ],
 "metadata": {
  "kernelspec": {
   "display_name": ".venv",
   "language": "python",
   "name": "python3"
  },
  "language_info": {
   "codemirror_mode": {
    "name": "ipython",
    "version": 3
   },
   "file_extension": ".py",
   "mimetype": "text/x-python",
   "name": "python",
   "nbconvert_exporter": "python",
   "pygments_lexer": "ipython3",
   "version": "3.12.7"
  }
 },
 "nbformat": 4,
 "nbformat_minor": 5
}
